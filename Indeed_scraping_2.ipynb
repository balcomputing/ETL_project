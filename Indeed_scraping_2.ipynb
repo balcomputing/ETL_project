{
 "cells": [
  {
   "cell_type": "code",
   "execution_count": 1,
   "metadata": {},
   "outputs": [],
   "source": [
    "import bs4\n",
    "from bs4 import BeautifulSoup\n",
    "import requests\n",
    "import pandas as pd\n",
    "import time"
   ]
  },
  {
   "cell_type": "code",
   "execution_count": 2,
   "metadata": {},
   "outputs": [],
   "source": [
    "analyst_url = \"https://www.indeed.com/jobs?q=data+analyst&l=Washington%2C+DC&radius=50\""
   ]
  },
  {
   "cell_type": "code",
   "execution_count": 3,
   "metadata": {},
   "outputs": [],
   "source": [
    "analyst_response = requests.get(analyst_url)"
   ]
  },
  {
   "cell_type": "code",
   "execution_count": 4,
   "metadata": {},
   "outputs": [],
   "source": [
    "soup = BeautifulSoup(analyst_response.text, 'html.parser')"
   ]
  },
  {
   "cell_type": "code",
   "execution_count": 5,
   "metadata": {},
   "outputs": [],
   "source": [
    "def indeed_title(soup): \n",
    "    jobs = []\n",
    "    for div in soup.find_all(name='div', attrs={'class':'row'}):\n",
    "        for a in div.find_all(name='a', attrs={'data-tn-element':'jobTitle'}):\n",
    "            jobs.append(a['title'])\n",
    "    return(jobs)\n"
   ]
  },
  {
   "cell_type": "code",
   "execution_count": 6,
   "metadata": {},
   "outputs": [
    {
     "data": {
      "text/plain": [
       "['Data Analyst',\n",
       " 'Data Analyst IV',\n",
       " 'Business Analyst',\n",
       " 'Data Analyst',\n",
       " 'Data Analyst',\n",
       " 'Healthcare Data Analyst',\n",
       " 'Sr. Data Analyst',\n",
       " 'Data Intake Analyst',\n",
       " 'Data Analyst Supporting the FBI',\n",
       " 'Data Analyst I',\n",
       " 'Data Analytics and Visualization Specialist',\n",
       " 'Portland, Washington DC, or London - Reduced Access Programming Data Analysis Intern',\n",
       " 'Data Analyst Supporting the USPIS',\n",
       " 'Data / Business Analyst',\n",
       " 'Spring Data & Analytics Intern',\n",
       " 'Data Analyst',\n",
       " 'Senior Data Analyst',\n",
       " 'Data Analyst']"
      ]
     },
     "execution_count": 6,
     "metadata": {},
     "output_type": "execute_result"
    }
   ],
   "source": [
    "indeed_title(soup)"
   ]
  },
  {
   "cell_type": "code",
   "execution_count": 7,
   "metadata": {},
   "outputs": [],
   "source": [
    "def indeed_company(soup): \n",
    "    companies = []\n",
    "    for div in soup.find_all(name='div', attrs={'class':'row'}):\n",
    "        company = div.find_all(name='span', attrs={'class':'company'})\n",
    "        if len(company) > 0:\n",
    "            for b in company:\n",
    "                companies.append(b.text.strip())\n",
    "        else:\n",
    "            sec_try = div.find_all(name='span', attrs={'class':'result-link-source'})\n",
    "            for span in sec_try:\n",
    "                companies.append(span.text.strip())\n",
    "    return(companies)"
   ]
  },
  {
   "cell_type": "code",
   "execution_count": 8,
   "metadata": {},
   "outputs": [
    {
     "data": {
      "text/plain": [
       "['Seen by Indeed',\n",
       " 'Common Securitization Solutions',\n",
       " 'Maru Solutions',\n",
       " 'NewDay USA',\n",
       " 'Sage Management',\n",
       " 'Baltimore Medical System, Inc.',\n",
       " 'Tredence',\n",
       " 'The HSC Health Care System',\n",
       " 'Forfeiture Support Associates',\n",
       " 'CNA Corp.',\n",
       " 'Reingold Inc',\n",
       " 'Mercy Corps',\n",
       " 'Forfeiture Support Associates',\n",
       " 'Alderson Loop',\n",
       " 'Precision Strategies',\n",
       " 'APPLETREE EARLY LEARNING PUBLIC CHARTER SCHOOL',\n",
       " 'Integral',\n",
       " 'spirits work']"
      ]
     },
     "execution_count": 8,
     "metadata": {},
     "output_type": "execute_result"
    }
   ],
   "source": [
    " indeed_company(soup)"
   ]
  },
  {
   "cell_type": "code",
   "execution_count": 9,
   "metadata": {},
   "outputs": [],
   "source": [
    "def indeed_location(soup): \n",
    "    locations = []\n",
    "    spans = soup.findAll(\"span\", attrs={\"class\": \"location\"})\n",
    "    for span in spans:\n",
    "        locations.append(span.text)\n",
    "    return(locations)"
   ]
  },
  {
   "cell_type": "code",
   "execution_count": 10,
   "metadata": {},
   "outputs": [
    {
     "data": {
      "text/plain": [
       "['Washington, DC 20005 (Logan Circle area)',\n",
       " 'Washington, DC 20004 (Downtown area)',\n",
       " 'Arlington, VA 22201',\n",
       " 'Alexandria, VA 22301 (Potomac West area)',\n",
       " 'Washington, DC 20036 (Downtown area)',\n",
       " 'Washington, DC 20066 (Brentwood area)',\n",
       " 'Owings Mills, MD',\n",
       " 'Washington, DC 20001 (Shaw area)',\n",
       " 'Washington, DC 20020 (Anacostia area)']"
      ]
     },
     "execution_count": 10,
     "metadata": {},
     "output_type": "execute_result"
    }
   ],
   "source": [
    "indeed_location(soup)"
   ]
  },
  {
   "cell_type": "code",
   "execution_count": 11,
   "metadata": {},
   "outputs": [
    {
     "data": {
      "text/html": [
       "<div>\n",
       "<style scoped>\n",
       "    .dataframe tbody tr th:only-of-type {\n",
       "        vertical-align: middle;\n",
       "    }\n",
       "\n",
       "    .dataframe tbody tr th {\n",
       "        vertical-align: top;\n",
       "    }\n",
       "\n",
       "    .dataframe thead th {\n",
       "        text-align: right;\n",
       "    }\n",
       "</style>\n",
       "<table border=\"1\" class=\"dataframe\">\n",
       "  <thead>\n",
       "    <tr style=\"text-align: right;\">\n",
       "      <th></th>\n",
       "      <th>Job Title</th>\n",
       "      <th>Company</th>\n",
       "      <th>Location</th>\n",
       "    </tr>\n",
       "  </thead>\n",
       "  <tbody>\n",
       "    <tr>\n",
       "      <td>0</td>\n",
       "      <td>Data Analyst</td>\n",
       "      <td>Seen by Indeed</td>\n",
       "      <td>Washington, DC 20005 (Logan Circle area)</td>\n",
       "    </tr>\n",
       "    <tr>\n",
       "      <td>1</td>\n",
       "      <td>Data Analyst IV</td>\n",
       "      <td>Common Securitization Solutions</td>\n",
       "      <td>Washington, DC 20004 (Downtown area)</td>\n",
       "    </tr>\n",
       "    <tr>\n",
       "      <td>2</td>\n",
       "      <td>Business Analyst</td>\n",
       "      <td>Maru Solutions</td>\n",
       "      <td>Arlington, VA 22201</td>\n",
       "    </tr>\n",
       "    <tr>\n",
       "      <td>3</td>\n",
       "      <td>Data Analyst</td>\n",
       "      <td>NewDay USA</td>\n",
       "      <td>Alexandria, VA 22301 (Potomac West area)</td>\n",
       "    </tr>\n",
       "    <tr>\n",
       "      <td>4</td>\n",
       "      <td>Data Analyst</td>\n",
       "      <td>Sage Management</td>\n",
       "      <td>Washington, DC 20036 (Downtown area)</td>\n",
       "    </tr>\n",
       "    <tr>\n",
       "      <td>5</td>\n",
       "      <td>Healthcare Data Analyst</td>\n",
       "      <td>Baltimore Medical System, Inc.</td>\n",
       "      <td>Washington, DC 20066 (Brentwood area)</td>\n",
       "    </tr>\n",
       "    <tr>\n",
       "      <td>6</td>\n",
       "      <td>Sr. Data Analyst</td>\n",
       "      <td>Tredence</td>\n",
       "      <td>Owings Mills, MD</td>\n",
       "    </tr>\n",
       "    <tr>\n",
       "      <td>7</td>\n",
       "      <td>Data Intake Analyst</td>\n",
       "      <td>The HSC Health Care System</td>\n",
       "      <td>Washington, DC 20001 (Shaw area)</td>\n",
       "    </tr>\n",
       "    <tr>\n",
       "      <td>8</td>\n",
       "      <td>Data Analyst Supporting the FBI</td>\n",
       "      <td>Forfeiture Support Associates</td>\n",
       "      <td>Washington, DC 20020 (Anacostia area)</td>\n",
       "    </tr>\n",
       "  </tbody>\n",
       "</table>\n",
       "</div>"
      ],
      "text/plain": [
       "                         Job Title                          Company  \\\n",
       "0                     Data Analyst                   Seen by Indeed   \n",
       "1                  Data Analyst IV  Common Securitization Solutions   \n",
       "2                 Business Analyst                   Maru Solutions   \n",
       "3                     Data Analyst                       NewDay USA   \n",
       "4                     Data Analyst                  Sage Management   \n",
       "5          Healthcare Data Analyst   Baltimore Medical System, Inc.   \n",
       "6                 Sr. Data Analyst                         Tredence   \n",
       "7              Data Intake Analyst       The HSC Health Care System   \n",
       "8  Data Analyst Supporting the FBI    Forfeiture Support Associates   \n",
       "\n",
       "                                   Location  \n",
       "0  Washington, DC 20005 (Logan Circle area)  \n",
       "1      Washington, DC 20004 (Downtown area)  \n",
       "2                       Arlington, VA 22201  \n",
       "3  Alexandria, VA 22301 (Potomac West area)  \n",
       "4      Washington, DC 20036 (Downtown area)  \n",
       "5     Washington, DC 20066 (Brentwood area)  \n",
       "6                          Owings Mills, MD  \n",
       "7          Washington, DC 20001 (Shaw area)  \n",
       "8     Washington, DC 20020 (Anacostia area)  "
      ]
     },
     "execution_count": 11,
     "metadata": {},
     "output_type": "execute_result"
    }
   ],
   "source": [
    "df = pd.DataFrame(list(zip(indeed_title(soup), indeed_company(soup), indeed_location(soup))), columns = ['Job Title', 'Company', 'Location'])\n",
    "df"
   ]
  },
  {
   "cell_type": "code",
   "execution_count": 12,
   "metadata": {},
   "outputs": [],
   "source": [
    "sci_url = \"https://www.indeed.com/jobs?q=data+scientist&l=Washington%2C+DC&radius=50\""
   ]
  },
  {
   "cell_type": "code",
   "execution_count": 13,
   "metadata": {},
   "outputs": [],
   "source": [
    "sci_response = requests.get(sci_url)"
   ]
  },
  {
   "cell_type": "code",
   "execution_count": 14,
   "metadata": {},
   "outputs": [],
   "source": [
    "soup = BeautifulSoup(sci_response.text, 'html.parser')"
   ]
  },
  {
   "cell_type": "code",
   "execution_count": 15,
   "metadata": {},
   "outputs": [
    {
     "data": {
      "text/plain": [
       "['Data Scientist (Python/Remote)',\n",
       " 'Data Scientist',\n",
       " 'Data Scientist',\n",
       " 'Data Scientist',\n",
       " 'Data Scientist',\n",
       " 'Data Scientist',\n",
       " 'Undergraduate Internship/Co-op Program - Data Scientist',\n",
       " 'Data Scientist',\n",
       " 'Data Scientist',\n",
       " 'Data Scientist',\n",
       " 'Senior Statistician',\n",
       " 'Senior Data Scientist',\n",
       " \"Data Scientist (2 opportunities) Georgetown University's School of Foreign Service (SFS)\",\n",
       " 'Junior Data Scientist',\n",
       " 'Data Scientist / AI / ML / Mathematician',\n",
       " 'Data Scientist',\n",
       " 'Senior Data Scientist',\n",
       " 'Data Scientist - Midlevel']"
      ]
     },
     "execution_count": 15,
     "metadata": {},
     "output_type": "execute_result"
    }
   ],
   "source": [
    "indeed_title(soup)"
   ]
  },
  {
   "cell_type": "code",
   "execution_count": 16,
   "metadata": {},
   "outputs": [
    {
     "data": {
      "text/plain": [
       "['AM LLC',\n",
       " 'Seen by Indeed',\n",
       " 'Red Oak Strategic',\n",
       " 'Verizon',\n",
       " 'Central Intelligence Agency',\n",
       " 'Perspecta',\n",
       " 'Central Intelligence Agency',\n",
       " 'NumeroData LLC',\n",
       " 'The Consortium, Inc.',\n",
       " 'National Security Agency',\n",
       " '3T Federal Solutions',\n",
       " 'Guzman & Griffin Technologies Inc',\n",
       " 'Georgetown University',\n",
       " 'Numero Data LLC',\n",
       " 'York & Whiting, LLC',\n",
       " 'World Bank Group',\n",
       " 'Adnet, Inc',\n",
       " 'Management Science & Innovation']"
      ]
     },
     "execution_count": 16,
     "metadata": {},
     "output_type": "execute_result"
    }
   ],
   "source": [
    "indeed_company(soup)"
   ]
  },
  {
   "cell_type": "code",
   "execution_count": 17,
   "metadata": {},
   "outputs": [
    {
     "data": {
      "text/plain": [
       "['Herndon, VA 20170',\n",
       " 'Suitland, MD 20746',\n",
       " 'Fort Meade, MD 20755',\n",
       " 'Washington, DC',\n",
       " 'Washington, DC',\n",
       " 'Washington, DC 20007 (Georgetown area)',\n",
       " 'Herndon, VA',\n",
       " 'Washington, DC',\n",
       " 'Washington, DC']"
      ]
     },
     "execution_count": 17,
     "metadata": {},
     "output_type": "execute_result"
    }
   ],
   "source": [
    "indeed_location(soup)"
   ]
  },
  {
   "cell_type": "code",
   "execution_count": 18,
   "metadata": {},
   "outputs": [
    {
     "data": {
      "text/html": [
       "<div>\n",
       "<style scoped>\n",
       "    .dataframe tbody tr th:only-of-type {\n",
       "        vertical-align: middle;\n",
       "    }\n",
       "\n",
       "    .dataframe tbody tr th {\n",
       "        vertical-align: top;\n",
       "    }\n",
       "\n",
       "    .dataframe thead th {\n",
       "        text-align: right;\n",
       "    }\n",
       "</style>\n",
       "<table border=\"1\" class=\"dataframe\">\n",
       "  <thead>\n",
       "    <tr style=\"text-align: right;\">\n",
       "      <th></th>\n",
       "      <th>Job Title</th>\n",
       "      <th>Company</th>\n",
       "      <th>Location</th>\n",
       "    </tr>\n",
       "  </thead>\n",
       "  <tbody>\n",
       "    <tr>\n",
       "      <td>0</td>\n",
       "      <td>Data Scientist (Python/Remote)</td>\n",
       "      <td>AM LLC</td>\n",
       "      <td>Herndon, VA 20170</td>\n",
       "    </tr>\n",
       "    <tr>\n",
       "      <td>1</td>\n",
       "      <td>Data Scientist</td>\n",
       "      <td>Seen by Indeed</td>\n",
       "      <td>Suitland, MD 20746</td>\n",
       "    </tr>\n",
       "    <tr>\n",
       "      <td>2</td>\n",
       "      <td>Data Scientist</td>\n",
       "      <td>Red Oak Strategic</td>\n",
       "      <td>Fort Meade, MD 20755</td>\n",
       "    </tr>\n",
       "    <tr>\n",
       "      <td>3</td>\n",
       "      <td>Data Scientist</td>\n",
       "      <td>Verizon</td>\n",
       "      <td>Washington, DC</td>\n",
       "    </tr>\n",
       "    <tr>\n",
       "      <td>4</td>\n",
       "      <td>Data Scientist</td>\n",
       "      <td>Central Intelligence Agency</td>\n",
       "      <td>Washington, DC</td>\n",
       "    </tr>\n",
       "    <tr>\n",
       "      <td>5</td>\n",
       "      <td>Data Scientist</td>\n",
       "      <td>Perspecta</td>\n",
       "      <td>Washington, DC 20007 (Georgetown area)</td>\n",
       "    </tr>\n",
       "    <tr>\n",
       "      <td>6</td>\n",
       "      <td>Undergraduate Internship/Co-op Program - Data ...</td>\n",
       "      <td>Central Intelligence Agency</td>\n",
       "      <td>Herndon, VA</td>\n",
       "    </tr>\n",
       "    <tr>\n",
       "      <td>7</td>\n",
       "      <td>Data Scientist</td>\n",
       "      <td>NumeroData LLC</td>\n",
       "      <td>Washington, DC</td>\n",
       "    </tr>\n",
       "    <tr>\n",
       "      <td>8</td>\n",
       "      <td>Data Scientist</td>\n",
       "      <td>The Consortium, Inc.</td>\n",
       "      <td>Washington, DC</td>\n",
       "    </tr>\n",
       "  </tbody>\n",
       "</table>\n",
       "</div>"
      ],
      "text/plain": [
       "                                           Job Title  \\\n",
       "0                     Data Scientist (Python/Remote)   \n",
       "1                                     Data Scientist   \n",
       "2                                     Data Scientist   \n",
       "3                                     Data Scientist   \n",
       "4                                     Data Scientist   \n",
       "5                                     Data Scientist   \n",
       "6  Undergraduate Internship/Co-op Program - Data ...   \n",
       "7                                     Data Scientist   \n",
       "8                                     Data Scientist   \n",
       "\n",
       "                       Company                                Location  \n",
       "0                       AM LLC                       Herndon, VA 20170  \n",
       "1               Seen by Indeed                      Suitland, MD 20746  \n",
       "2            Red Oak Strategic                    Fort Meade, MD 20755  \n",
       "3                      Verizon                          Washington, DC  \n",
       "4  Central Intelligence Agency                          Washington, DC  \n",
       "5                    Perspecta  Washington, DC 20007 (Georgetown area)  \n",
       "6  Central Intelligence Agency                             Herndon, VA  \n",
       "7               NumeroData LLC                          Washington, DC  \n",
       "8         The Consortium, Inc.                          Washington, DC  "
      ]
     },
     "execution_count": 18,
     "metadata": {},
     "output_type": "execute_result"
    }
   ],
   "source": [
    "sci_df = pd.DataFrame(list(zip(indeed_title(soup), indeed_company(soup), indeed_location(soup))), columns = ['Job Title', 'Company', 'Location'])\n",
    "sci_df"
   ]
  },
  {
   "cell_type": "code",
   "execution_count": 19,
   "metadata": {},
   "outputs": [],
   "source": [
    "ml_url = \"https://www.indeed.com/jobs?q=machine+learning+engineer&l=Washington%2C+DC&radius=50\""
   ]
  },
  {
   "cell_type": "code",
   "execution_count": 20,
   "metadata": {},
   "outputs": [],
   "source": [
    "ml_response = requests.get(ml_url)"
   ]
  },
  {
   "cell_type": "code",
   "execution_count": 21,
   "metadata": {},
   "outputs": [],
   "source": [
    "soup = BeautifulSoup(ml_response.text, 'html.parser')"
   ]
  },
  {
   "cell_type": "code",
   "execution_count": 22,
   "metadata": {},
   "outputs": [
    {
     "data": {
      "text/plain": [
       "['Eng 4, Machine Learning',\n",
       " 'Associate Systems Engineer (Geospatial/Machine Learning)',\n",
       " 'Systems Engineer',\n",
       " 'Software Engineer for Machine Learning Applications',\n",
       " 'Sr. Front End Software Engineer',\n",
       " 'Maching Learning Systems Engineer',\n",
       " 'Machine Learning Engineer - DC',\n",
       " 'Computational / Machine Learning Engineer Intern',\n",
       " 'Senior Machine Learning Engineer',\n",
       " 'Software Engineer for Machine Learning product',\n",
       " 'Machine Learning Engineer',\n",
       " 'Machine Learning Software Engineer (Hiring at Various Levels)',\n",
       " 'Senior Manager Machine Learning Engineer',\n",
       " 'Reinforcement Learning Engineer',\n",
       " 'Sr. Machine Learning Engineer',\n",
       " 'Eng 4, Machine Learning',\n",
       " 'Data Engineer',\n",
       " 'Lead Machine Learning DevOps Engineer']"
      ]
     },
     "execution_count": 22,
     "metadata": {},
     "output_type": "execute_result"
    }
   ],
   "source": [
    "indeed_title(soup)"
   ]
  },
  {
   "cell_type": "code",
   "execution_count": 23,
   "metadata": {},
   "outputs": [
    {
     "data": {
      "text/plain": [
       "['Comcast',\n",
       " 'Mitre Corporation',\n",
       " 'STONE Resource Group',\n",
       " 'DECISIVE ANALYTICS Corporation',\n",
       " 'Aerial Applications',\n",
       " 'Mitre Corporation',\n",
       " 'G11 Technology Partners',\n",
       " '3M',\n",
       " 'Rekor',\n",
       " 'RiskSpan',\n",
       " 'Apar Technologies',\n",
       " 'Capital One - US',\n",
       " 'Capital One - US',\n",
       " 'PCI',\n",
       " 'Capital One - US',\n",
       " 'Comcast',\n",
       " 'Sayari Labs',\n",
       " 'DECISIVE ANALYTICS Corporation']"
      ]
     },
     "execution_count": 23,
     "metadata": {},
     "output_type": "execute_result"
    }
   ],
   "source": [
    "indeed_company(soup)"
   ]
  },
  {
   "cell_type": "code",
   "execution_count": 24,
   "metadata": {},
   "outputs": [
    {
     "data": {
      "text/plain": [
       "['Washington, DC',\n",
       " 'Silver Spring, MD 20904',\n",
       " 'Columbia, MD 21046',\n",
       " 'Arlington, VA',\n",
       " 'McLean, VA',\n",
       " 'Vienna, VA',\n",
       " 'McLean, VA',\n",
       " 'Vienna, VA 22182',\n",
       " 'Vienna, VA',\n",
       " 'Washington, DC 20005 (Logan Circle area)']"
      ]
     },
     "execution_count": 24,
     "metadata": {},
     "output_type": "execute_result"
    }
   ],
   "source": [
    "indeed_location(soup)"
   ]
  },
  {
   "cell_type": "code",
   "execution_count": 25,
   "metadata": {},
   "outputs": [
    {
     "data": {
      "text/html": [
       "<div>\n",
       "<style scoped>\n",
       "    .dataframe tbody tr th:only-of-type {\n",
       "        vertical-align: middle;\n",
       "    }\n",
       "\n",
       "    .dataframe tbody tr th {\n",
       "        vertical-align: top;\n",
       "    }\n",
       "\n",
       "    .dataframe thead th {\n",
       "        text-align: right;\n",
       "    }\n",
       "</style>\n",
       "<table border=\"1\" class=\"dataframe\">\n",
       "  <thead>\n",
       "    <tr style=\"text-align: right;\">\n",
       "      <th></th>\n",
       "      <th>Job Title</th>\n",
       "      <th>Company</th>\n",
       "      <th>Location</th>\n",
       "    </tr>\n",
       "  </thead>\n",
       "  <tbody>\n",
       "    <tr>\n",
       "      <td>0</td>\n",
       "      <td>Eng 4, Machine Learning</td>\n",
       "      <td>Comcast</td>\n",
       "      <td>Washington, DC</td>\n",
       "    </tr>\n",
       "    <tr>\n",
       "      <td>1</td>\n",
       "      <td>Associate Systems Engineer (Geospatial/Machine...</td>\n",
       "      <td>Mitre Corporation</td>\n",
       "      <td>Silver Spring, MD 20904</td>\n",
       "    </tr>\n",
       "    <tr>\n",
       "      <td>2</td>\n",
       "      <td>Systems Engineer</td>\n",
       "      <td>STONE Resource Group</td>\n",
       "      <td>Columbia, MD 21046</td>\n",
       "    </tr>\n",
       "    <tr>\n",
       "      <td>3</td>\n",
       "      <td>Software Engineer for Machine Learning Applica...</td>\n",
       "      <td>DECISIVE ANALYTICS Corporation</td>\n",
       "      <td>Arlington, VA</td>\n",
       "    </tr>\n",
       "    <tr>\n",
       "      <td>4</td>\n",
       "      <td>Sr. Front End Software Engineer</td>\n",
       "      <td>Aerial Applications</td>\n",
       "      <td>McLean, VA</td>\n",
       "    </tr>\n",
       "    <tr>\n",
       "      <td>5</td>\n",
       "      <td>Maching Learning Systems Engineer</td>\n",
       "      <td>Mitre Corporation</td>\n",
       "      <td>Vienna, VA</td>\n",
       "    </tr>\n",
       "    <tr>\n",
       "      <td>6</td>\n",
       "      <td>Machine Learning Engineer - DC</td>\n",
       "      <td>G11 Technology Partners</td>\n",
       "      <td>McLean, VA</td>\n",
       "    </tr>\n",
       "    <tr>\n",
       "      <td>7</td>\n",
       "      <td>Computational / Machine Learning Engineer Intern</td>\n",
       "      <td>3M</td>\n",
       "      <td>Vienna, VA 22182</td>\n",
       "    </tr>\n",
       "    <tr>\n",
       "      <td>8</td>\n",
       "      <td>Senior Machine Learning Engineer</td>\n",
       "      <td>Rekor</td>\n",
       "      <td>Vienna, VA</td>\n",
       "    </tr>\n",
       "    <tr>\n",
       "      <td>9</td>\n",
       "      <td>Software Engineer for Machine Learning product</td>\n",
       "      <td>RiskSpan</td>\n",
       "      <td>Washington, DC 20005 (Logan Circle area)</td>\n",
       "    </tr>\n",
       "  </tbody>\n",
       "</table>\n",
       "</div>"
      ],
      "text/plain": [
       "                                           Job Title  \\\n",
       "0                            Eng 4, Machine Learning   \n",
       "1  Associate Systems Engineer (Geospatial/Machine...   \n",
       "2                                   Systems Engineer   \n",
       "3  Software Engineer for Machine Learning Applica...   \n",
       "4                    Sr. Front End Software Engineer   \n",
       "5                  Maching Learning Systems Engineer   \n",
       "6                     Machine Learning Engineer - DC   \n",
       "7   Computational / Machine Learning Engineer Intern   \n",
       "8                   Senior Machine Learning Engineer   \n",
       "9     Software Engineer for Machine Learning product   \n",
       "\n",
       "                          Company                                  Location  \n",
       "0                         Comcast                            Washington, DC  \n",
       "1               Mitre Corporation                   Silver Spring, MD 20904  \n",
       "2            STONE Resource Group                        Columbia, MD 21046  \n",
       "3  DECISIVE ANALYTICS Corporation                             Arlington, VA  \n",
       "4             Aerial Applications                                McLean, VA  \n",
       "5               Mitre Corporation                                Vienna, VA  \n",
       "6         G11 Technology Partners                                McLean, VA  \n",
       "7                              3M                          Vienna, VA 22182  \n",
       "8                           Rekor                                Vienna, VA  \n",
       "9                        RiskSpan  Washington, DC 20005 (Logan Circle area)  "
      ]
     },
     "execution_count": 25,
     "metadata": {},
     "output_type": "execute_result"
    }
   ],
   "source": [
    "ml_df = pd.DataFrame(list(zip(indeed_title(soup), indeed_company(soup), indeed_location(soup))), columns = ['Job Title', 'Company', 'Location'])\n",
    "ml_df"
   ]
  },
  {
   "cell_type": "code",
   "execution_count": 26,
   "metadata": {},
   "outputs": [
    {
     "data": {
      "text/html": [
       "<div>\n",
       "<style scoped>\n",
       "    .dataframe tbody tr th:only-of-type {\n",
       "        vertical-align: middle;\n",
       "    }\n",
       "\n",
       "    .dataframe tbody tr th {\n",
       "        vertical-align: top;\n",
       "    }\n",
       "\n",
       "    .dataframe thead th {\n",
       "        text-align: right;\n",
       "    }\n",
       "</style>\n",
       "<table border=\"1\" class=\"dataframe\">\n",
       "  <thead>\n",
       "    <tr style=\"text-align: right;\">\n",
       "      <th></th>\n",
       "      <th>Job Title</th>\n",
       "      <th>Company</th>\n",
       "      <th>Location</th>\n",
       "    </tr>\n",
       "  </thead>\n",
       "  <tbody>\n",
       "    <tr>\n",
       "      <td>0</td>\n",
       "      <td>Data Analyst</td>\n",
       "      <td>Seen by Indeed</td>\n",
       "      <td>Washington, DC 20005 (Logan Circle area)</td>\n",
       "    </tr>\n",
       "    <tr>\n",
       "      <td>1</td>\n",
       "      <td>Data Analyst IV</td>\n",
       "      <td>Common Securitization Solutions</td>\n",
       "      <td>Washington, DC 20004 (Downtown area)</td>\n",
       "    </tr>\n",
       "    <tr>\n",
       "      <td>2</td>\n",
       "      <td>Business Analyst</td>\n",
       "      <td>Maru Solutions</td>\n",
       "      <td>Arlington, VA 22201</td>\n",
       "    </tr>\n",
       "    <tr>\n",
       "      <td>3</td>\n",
       "      <td>Data Analyst</td>\n",
       "      <td>NewDay USA</td>\n",
       "      <td>Alexandria, VA 22301 (Potomac West area)</td>\n",
       "    </tr>\n",
       "    <tr>\n",
       "      <td>4</td>\n",
       "      <td>Data Analyst</td>\n",
       "      <td>Sage Management</td>\n",
       "      <td>Washington, DC 20036 (Downtown area)</td>\n",
       "    </tr>\n",
       "    <tr>\n",
       "      <td>5</td>\n",
       "      <td>Healthcare Data Analyst</td>\n",
       "      <td>Baltimore Medical System, Inc.</td>\n",
       "      <td>Washington, DC 20066 (Brentwood area)</td>\n",
       "    </tr>\n",
       "    <tr>\n",
       "      <td>6</td>\n",
       "      <td>Sr. Data Analyst</td>\n",
       "      <td>Tredence</td>\n",
       "      <td>Owings Mills, MD</td>\n",
       "    </tr>\n",
       "    <tr>\n",
       "      <td>7</td>\n",
       "      <td>Data Intake Analyst</td>\n",
       "      <td>The HSC Health Care System</td>\n",
       "      <td>Washington, DC 20001 (Shaw area)</td>\n",
       "    </tr>\n",
       "    <tr>\n",
       "      <td>8</td>\n",
       "      <td>Data Analyst Supporting the FBI</td>\n",
       "      <td>Forfeiture Support Associates</td>\n",
       "      <td>Washington, DC 20020 (Anacostia area)</td>\n",
       "    </tr>\n",
       "    <tr>\n",
       "      <td>9</td>\n",
       "      <td>Data Scientist (Python/Remote)</td>\n",
       "      <td>AM LLC</td>\n",
       "      <td>Herndon, VA 20170</td>\n",
       "    </tr>\n",
       "    <tr>\n",
       "      <td>10</td>\n",
       "      <td>Data Scientist</td>\n",
       "      <td>Seen by Indeed</td>\n",
       "      <td>Suitland, MD 20746</td>\n",
       "    </tr>\n",
       "    <tr>\n",
       "      <td>11</td>\n",
       "      <td>Data Scientist</td>\n",
       "      <td>Red Oak Strategic</td>\n",
       "      <td>Fort Meade, MD 20755</td>\n",
       "    </tr>\n",
       "    <tr>\n",
       "      <td>12</td>\n",
       "      <td>Data Scientist</td>\n",
       "      <td>Verizon</td>\n",
       "      <td>Washington, DC</td>\n",
       "    </tr>\n",
       "    <tr>\n",
       "      <td>13</td>\n",
       "      <td>Data Scientist</td>\n",
       "      <td>Central Intelligence Agency</td>\n",
       "      <td>Washington, DC</td>\n",
       "    </tr>\n",
       "    <tr>\n",
       "      <td>14</td>\n",
       "      <td>Data Scientist</td>\n",
       "      <td>Perspecta</td>\n",
       "      <td>Washington, DC 20007 (Georgetown area)</td>\n",
       "    </tr>\n",
       "    <tr>\n",
       "      <td>15</td>\n",
       "      <td>Undergraduate Internship/Co-op Program - Data ...</td>\n",
       "      <td>Central Intelligence Agency</td>\n",
       "      <td>Herndon, VA</td>\n",
       "    </tr>\n",
       "    <tr>\n",
       "      <td>16</td>\n",
       "      <td>Data Scientist</td>\n",
       "      <td>NumeroData LLC</td>\n",
       "      <td>Washington, DC</td>\n",
       "    </tr>\n",
       "    <tr>\n",
       "      <td>17</td>\n",
       "      <td>Data Scientist</td>\n",
       "      <td>The Consortium, Inc.</td>\n",
       "      <td>Washington, DC</td>\n",
       "    </tr>\n",
       "    <tr>\n",
       "      <td>18</td>\n",
       "      <td>Eng 4, Machine Learning</td>\n",
       "      <td>Comcast</td>\n",
       "      <td>Washington, DC</td>\n",
       "    </tr>\n",
       "    <tr>\n",
       "      <td>19</td>\n",
       "      <td>Associate Systems Engineer (Geospatial/Machine...</td>\n",
       "      <td>Mitre Corporation</td>\n",
       "      <td>Silver Spring, MD 20904</td>\n",
       "    </tr>\n",
       "    <tr>\n",
       "      <td>20</td>\n",
       "      <td>Systems Engineer</td>\n",
       "      <td>STONE Resource Group</td>\n",
       "      <td>Columbia, MD 21046</td>\n",
       "    </tr>\n",
       "    <tr>\n",
       "      <td>21</td>\n",
       "      <td>Software Engineer for Machine Learning Applica...</td>\n",
       "      <td>DECISIVE ANALYTICS Corporation</td>\n",
       "      <td>Arlington, VA</td>\n",
       "    </tr>\n",
       "    <tr>\n",
       "      <td>22</td>\n",
       "      <td>Sr. Front End Software Engineer</td>\n",
       "      <td>Aerial Applications</td>\n",
       "      <td>McLean, VA</td>\n",
       "    </tr>\n",
       "    <tr>\n",
       "      <td>23</td>\n",
       "      <td>Maching Learning Systems Engineer</td>\n",
       "      <td>Mitre Corporation</td>\n",
       "      <td>Vienna, VA</td>\n",
       "    </tr>\n",
       "    <tr>\n",
       "      <td>24</td>\n",
       "      <td>Machine Learning Engineer - DC</td>\n",
       "      <td>G11 Technology Partners</td>\n",
       "      <td>McLean, VA</td>\n",
       "    </tr>\n",
       "    <tr>\n",
       "      <td>25</td>\n",
       "      <td>Computational / Machine Learning Engineer Intern</td>\n",
       "      <td>3M</td>\n",
       "      <td>Vienna, VA 22182</td>\n",
       "    </tr>\n",
       "    <tr>\n",
       "      <td>26</td>\n",
       "      <td>Senior Machine Learning Engineer</td>\n",
       "      <td>Rekor</td>\n",
       "      <td>Vienna, VA</td>\n",
       "    </tr>\n",
       "    <tr>\n",
       "      <td>27</td>\n",
       "      <td>Software Engineer for Machine Learning product</td>\n",
       "      <td>RiskSpan</td>\n",
       "      <td>Washington, DC 20005 (Logan Circle area)</td>\n",
       "    </tr>\n",
       "  </tbody>\n",
       "</table>\n",
       "</div>"
      ],
      "text/plain": [
       "                                            Job Title  \\\n",
       "0                                        Data Analyst   \n",
       "1                                     Data Analyst IV   \n",
       "2                                    Business Analyst   \n",
       "3                                        Data Analyst   \n",
       "4                                        Data Analyst   \n",
       "5                             Healthcare Data Analyst   \n",
       "6                                    Sr. Data Analyst   \n",
       "7                                 Data Intake Analyst   \n",
       "8                     Data Analyst Supporting the FBI   \n",
       "9                      Data Scientist (Python/Remote)   \n",
       "10                                     Data Scientist   \n",
       "11                                     Data Scientist   \n",
       "12                                     Data Scientist   \n",
       "13                                     Data Scientist   \n",
       "14                                     Data Scientist   \n",
       "15  Undergraduate Internship/Co-op Program - Data ...   \n",
       "16                                     Data Scientist   \n",
       "17                                     Data Scientist   \n",
       "18                            Eng 4, Machine Learning   \n",
       "19  Associate Systems Engineer (Geospatial/Machine...   \n",
       "20                                   Systems Engineer   \n",
       "21  Software Engineer for Machine Learning Applica...   \n",
       "22                    Sr. Front End Software Engineer   \n",
       "23                  Maching Learning Systems Engineer   \n",
       "24                     Machine Learning Engineer - DC   \n",
       "25   Computational / Machine Learning Engineer Intern   \n",
       "26                   Senior Machine Learning Engineer   \n",
       "27     Software Engineer for Machine Learning product   \n",
       "\n",
       "                            Company                                  Location  \n",
       "0                    Seen by Indeed  Washington, DC 20005 (Logan Circle area)  \n",
       "1   Common Securitization Solutions      Washington, DC 20004 (Downtown area)  \n",
       "2                    Maru Solutions                       Arlington, VA 22201  \n",
       "3                        NewDay USA  Alexandria, VA 22301 (Potomac West area)  \n",
       "4                   Sage Management      Washington, DC 20036 (Downtown area)  \n",
       "5    Baltimore Medical System, Inc.     Washington, DC 20066 (Brentwood area)  \n",
       "6                          Tredence                          Owings Mills, MD  \n",
       "7        The HSC Health Care System          Washington, DC 20001 (Shaw area)  \n",
       "8     Forfeiture Support Associates     Washington, DC 20020 (Anacostia area)  \n",
       "9                            AM LLC                         Herndon, VA 20170  \n",
       "10                   Seen by Indeed                        Suitland, MD 20746  \n",
       "11                Red Oak Strategic                      Fort Meade, MD 20755  \n",
       "12                          Verizon                            Washington, DC  \n",
       "13      Central Intelligence Agency                            Washington, DC  \n",
       "14                        Perspecta    Washington, DC 20007 (Georgetown area)  \n",
       "15      Central Intelligence Agency                               Herndon, VA  \n",
       "16                   NumeroData LLC                            Washington, DC  \n",
       "17             The Consortium, Inc.                            Washington, DC  \n",
       "18                          Comcast                            Washington, DC  \n",
       "19                Mitre Corporation                   Silver Spring, MD 20904  \n",
       "20             STONE Resource Group                        Columbia, MD 21046  \n",
       "21   DECISIVE ANALYTICS Corporation                             Arlington, VA  \n",
       "22              Aerial Applications                                McLean, VA  \n",
       "23                Mitre Corporation                                Vienna, VA  \n",
       "24          G11 Technology Partners                                McLean, VA  \n",
       "25                               3M                          Vienna, VA 22182  \n",
       "26                            Rekor                                Vienna, VA  \n",
       "27                         RiskSpan  Washington, DC 20005 (Logan Circle area)  "
      ]
     },
     "execution_count": 26,
     "metadata": {},
     "output_type": "execute_result"
    }
   ],
   "source": [
    "df_all = pd.concat([df, sci_df, ml_df], ignore_index=True, verify_integrity=True)\n",
    "df_all"
   ]
  },
  {
   "cell_type": "code",
   "execution_count": 27,
   "metadata": {},
   "outputs": [],
   "source": [
    "df_all.to_csv(\"indeed_jobs.csv\", index=False)"
   ]
  },
  {
   "cell_type": "code",
   "execution_count": 28,
   "metadata": {},
   "outputs": [],
   "source": [
    "import psycopg2"
   ]
  },
  {
   "cell_type": "code",
   "execution_count": null,
   "metadata": {},
   "outputs": [],
   "source": [
    "\n",
    "try:\n",
    "    connection = psycopg2.connect(user = \"postgres\",\n",
    "                                  password = \"Swissbeats33\",\n",
    "                                  host = \"127.0.0.1\",\n",
    "                                  port = \"5432\",\n",
    "                                  database = \"ETL Project\")\n",
    "    cursor = connection.cursor()\n",
    "\n",
    "# Print PostgreSQL Connection properties\n",
    "    print( connection.get_dsn_parameters(),\"\\n\")\n",
    "    # Print PostgreSQL version\n",
    "    cursor.execute(\"SELECT version();\")\n",
    "    record = cursor.fetchone()\n",
    "    print(\"You are connected to - \", record,\"\\n\")\n",
    "except (Exception, psycopg2.Error) as error :\n",
    "    print (\"Error while connecting to PostgreSQL\", error)\n",
    "# finally:\n",
    "#     #closing database connection.\n",
    "#         if(connection):\n",
    "#             cursor.close()\n",
    "#             connection.close()\n",
    "#             print(\"PostgreSQL connection is closed\")\n"
   ]
  },
  {
   "cell_type": "code",
   "execution_count": null,
   "metadata": {},
   "outputs": [],
   "source": [
    "import csv\n",
    "with open ('Indeed_jobs.csv', 'r') as f:\n",
    "    reader = csv.reader(f)\n",
    "    next (reader) #Skip the header row\n",
    "    for row in reader:\n",
    "        cursor.execute(\n",
    "        \"INSERT INTO data_job_postings VALUES (%s, %s, %s)\", row)\n",
    "        row\n",
    "    connection.commit()"
   ]
  },
  {
   "cell_type": "code",
   "execution_count": null,
   "metadata": {},
   "outputs": [],
   "source": []
  }
 ],
 "metadata": {
  "kernelspec": {
   "display_name": "Python 3",
   "language": "python",
   "name": "python3"
  },
  "language_info": {
   "codemirror_mode": {
    "name": "ipython",
    "version": 3
   },
   "file_extension": ".py",
   "mimetype": "text/x-python",
   "name": "python",
   "nbconvert_exporter": "python",
   "pygments_lexer": "ipython3",
   "version": "3.7.4"
  }
 },
 "nbformat": 4,
 "nbformat_minor": 2
}
